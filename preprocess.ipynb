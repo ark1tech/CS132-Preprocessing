{
 "cells": [
  {
   "cell_type": "code",
   "execution_count": 2,
   "metadata": {},
   "outputs": [],
   "source": [
    "import pandas as pd\n",
    "\n",
    "pd.set_option('display.max_columns', None)  # or 1000\n",
    "pd.set_option('display.max_rows', None)  # or 1000\n",
    "pd.set_option('display.max_colwidth', None)  # or 199"
   ]
  },
  {
   "cell_type": "code",
   "execution_count": 5,
   "metadata": {},
   "outputs": [
    {
     "data": {
      "text/html": [
       "<div>\n",
       "<style scoped>\n",
       "    .dataframe tbody tr th:only-of-type {\n",
       "        vertical-align: middle;\n",
       "    }\n",
       "\n",
       "    .dataframe tbody tr th {\n",
       "        vertical-align: top;\n",
       "    }\n",
       "\n",
       "    .dataframe thead th {\n",
       "        text-align: right;\n",
       "    }\n",
       "</style>\n",
       "<table border=\"1\" class=\"dataframe\">\n",
       "  <thead>\n",
       "    <tr style=\"text-align: right;\">\n",
       "      <th></th>\n",
       "      <th>Timestamp</th>\n",
       "      <th>Content Type</th>\n",
       "      <th>Title</th>\n",
       "      <th>Content</th>\n",
       "      <th>Upvotes Count</th>\n",
       "      <th>Comments Count</th>\n",
       "      <th>Upvote Ratio</th>\n",
       "      <th>Flair</th>\n",
       "      <th>Permalink</th>\n",
       "      <th>Reddit ID</th>\n",
       "    </tr>\n",
       "  </thead>\n",
       "  <tbody>\n",
       "    <tr>\n",
       "      <th>874</th>\n",
       "      <td>2023-12-14 22:08:33</td>\n",
       "      <td>Text-only</td>\n",
       "      <td>Resignation</td>\n",
       "      <td>Hi, pakiramdam ko talaga gusto ko isangguni yung concern ko here at magbakasakaling makakuha ng mga perspektibo.\\n\\nMy probi period will end on 27th Dec 2023 , nag resign ako ng Dec 11, reasons: delayed salary, binawasan ang working hours na wala sa pinirmahan ko, toxic management. Pasalamat na lang ako kasi nasa mama ko ako hanggang ngayon at walang sariling pamilyang binubuhay. Jusq.\\n\\nPast couple of months, inabisuhan na kami na magkakatanggalan so better maghanap na ng trabaho to which I did and got a JO now, 5x better than my current job. Tama naman ginawa ko kasi I never kne what will happen next. Pinili ako mag stay sa company but again kung ako ang nasa position ng mga natanggal that time, mahirap, and kung hindi rin sila nahirapan magtanggal ng trabahante, hindi rin ako magihirapan magdecide umalis, nagkataon lang na ako ang napili. Sobrang unjust ng nangyari, that time.\\n\\nGoing back, nag email na ako ng resignation, again Im a probi, no need ng approval but the next company requires me a signed resignation letter? Of which hindi ko gets, so need ko pa rin pala hingin approval nila to which I did a follow up sa HR and supervisor ko. I got \"hahahaha\" \"ayoko nga\" and \"angry reax\" sa message ko na nakikisuyo nang maayos. It pissed me off , kasi matatanda na sila for me to get that as an answer,  hindi naman ako nakikipagbiruan. \\n\\nAdd, the HR told me na , usually 2weeks na lang dapat ko irender.\\n\\nDi ko gets yung mga pasada nila hmm.\\n\\nOpo galit po ako dito :&lt;\\n\\nAnother thing, pwede naman pala ako makakuha ng COE kahit wala pang clearance. ( can someone second the motion here?)\\n\\nSa tingin nio po, ano pa ba dapat ko gawin?\\n\\nNangangatwiran,\\nAquarius</td>\n",
       "      <td>6</td>\n",
       "      <td>9</td>\n",
       "      <td>0.72</td>\n",
       "      <td>Advice Needed 🤔</td>\n",
       "      <td>https://www.reddit.com//r/AntiworkPH/comments/18i9eoz/resignation/</td>\n",
       "      <td>18i9eoz</td>\n",
       "    </tr>\n",
       "  </tbody>\n",
       "</table>\n",
       "</div>"
      ],
      "text/plain": [
       "               Timestamp Content Type        Title  \\\n",
       "874  2023-12-14 22:08:33    Text-only  Resignation   \n",
       "\n",
       "                                                                                                                                                                                                                                                                                                                                                                                                                                                                                                                                                                                                                                                                                                                                                                                                                                                                                                                                                                                                                                                                                                                                                                                                                                                                                                                                                                                                                                                                                                                                                                                                                                                                                                                                                          Content  \\\n",
       "874  Hi, pakiramdam ko talaga gusto ko isangguni yung concern ko here at magbakasakaling makakuha ng mga perspektibo.\\n\\nMy probi period will end on 27th Dec 2023 , nag resign ako ng Dec 11, reasons: delayed salary, binawasan ang working hours na wala sa pinirmahan ko, toxic management. Pasalamat na lang ako kasi nasa mama ko ako hanggang ngayon at walang sariling pamilyang binubuhay. Jusq.\\n\\nPast couple of months, inabisuhan na kami na magkakatanggalan so better maghanap na ng trabaho to which I did and got a JO now, 5x better than my current job. Tama naman ginawa ko kasi I never kne what will happen next. Pinili ako mag stay sa company but again kung ako ang nasa position ng mga natanggal that time, mahirap, and kung hindi rin sila nahirapan magtanggal ng trabahante, hindi rin ako magihirapan magdecide umalis, nagkataon lang na ako ang napili. Sobrang unjust ng nangyari, that time.\\n\\nGoing back, nag email na ako ng resignation, again Im a probi, no need ng approval but the next company requires me a signed resignation letter? Of which hindi ko gets, so need ko pa rin pala hingin approval nila to which I did a follow up sa HR and supervisor ko. I got \"hahahaha\" \"ayoko nga\" and \"angry reax\" sa message ko na nakikisuyo nang maayos. It pissed me off , kasi matatanda na sila for me to get that as an answer,  hindi naman ako nakikipagbiruan. \\n\\nAdd, the HR told me na , usually 2weeks na lang dapat ko irender.\\n\\nDi ko gets yung mga pasada nila hmm.\\n\\nOpo galit po ako dito :<\\n\\nAnother thing, pwede naman pala ako makakuha ng COE kahit wala pang clearance. ( can someone second the motion here?)\\n\\nSa tingin nio po, ano pa ba dapat ko gawin?\\n\\nNangangatwiran,\\nAquarius   \n",
       "\n",
       "     Upvotes Count  Comments Count  Upvote Ratio            Flair  \\\n",
       "874              6               9          0.72  Advice Needed 🤔   \n",
       "\n",
       "                                                              Permalink  \\\n",
       "874  https://www.reddit.com//r/AntiworkPH/comments/18i9eoz/resignation/   \n",
       "\n",
       "    Reddit ID  \n",
       "874   18i9eoz  "
      ]
     },
     "execution_count": 5,
     "metadata": {},
     "output_type": "execute_result"
    }
   ],
   "source": [
    "# df1 = pd.read_csv(\"reddit_hot.csv\")\n",
    "# df2 = pd.read_csv(\"reddit_top.csv\")\n",
    "\n",
    "# df1.tail(1)\n",
    "# df2.tail(1)\n",
    "\n",
    "# df.to_csv('clean_v2.csv', index=False)\n",
    "\n",
    "# df = pd.read_csv(\"tbc.csv\")\n",
    "# df['Content Type'].describe()\n",
    "# df2 = df['Content Type'].replace(\"TRUE\", \"Text-only\", regex=True)\n",
    "# df2 = df['Content Type'].replace(\"FALSE\", \"Unknown\", regex=True)\n",
    "\n",
    "# df2.to_csv('tbc2.csv', index = False)\n"
   ]
  }
 ],
 "metadata": {
  "kernelspec": {
   "display_name": ".scrape",
   "language": "python",
   "name": "python3"
  },
  "language_info": {
   "codemirror_mode": {
    "name": "ipython",
    "version": 3
   },
   "file_extension": ".py",
   "mimetype": "text/x-python",
   "name": "python",
   "nbconvert_exporter": "python",
   "pygments_lexer": "ipython3",
   "version": "3.12.0"
  }
 },
 "nbformat": 4,
 "nbformat_minor": 2
}
