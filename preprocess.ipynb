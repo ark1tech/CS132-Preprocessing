{
 "cells": [
  {
   "cell_type": "code",
   "execution_count": 1,
   "metadata": {},
   "outputs": [],
   "source": [
    "import pandas as pd\n",
    "\n",
    "pd.set_option('display.max_columns', None)  # or 1000\n",
    "pd.set_option('display.max_rows', None)  # or 1000\n",
    "pd.set_option('display.max_colwidth', None)  # or 199"
   ]
  },
  {
   "cell_type": "code",
   "execution_count": 2,
   "metadata": {},
   "outputs": [],
   "source": [
    "df1 = pd.read_csv(\"csv/hot.csv\")\n",
    "df2 = pd.read_csv(\"csv/top.csv\")\n",
    "df3 = pd.read_csv(\"csv/controversial.csv\")"
   ]
  },
  {
   "cell_type": "code",
   "execution_count": 18,
   "metadata": {},
   "outputs": [
    {
     "name": "stdout",
     "output_type": "stream",
     "text": [
      "211\n"
     ]
    }
   ],
   "source": [
    "df1['Content Type'].describe()"
   ]
  },
  {
   "cell_type": "code",
   "execution_count": 20,
   "metadata": {},
   "outputs": [
    {
     "name": "stdout",
     "output_type": "stream",
     "text": [
      "387\n",
      "598\n"
     ]
    }
   ],
   "source": [
    "df2['Content Type'].describe()"
   ]
  },
  {
   "cell_type": "code",
   "execution_count": 4,
   "metadata": {},
   "outputs": [
    {
     "data": {
      "text/html": [
       "<div>\n",
       "<style scoped>\n",
       "    .dataframe tbody tr th:only-of-type {\n",
       "        vertical-align: middle;\n",
       "    }\n",
       "\n",
       "    .dataframe tbody tr th {\n",
       "        vertical-align: top;\n",
       "    }\n",
       "\n",
       "    .dataframe thead th {\n",
       "        text-align: right;\n",
       "    }\n",
       "</style>\n",
       "<table border=\"1\" class=\"dataframe\">\n",
       "  <thead>\n",
       "    <tr style=\"text-align: right;\">\n",
       "      <th></th>\n",
       "      <th>Timestamp</th>\n",
       "      <th>Content Type</th>\n",
       "      <th>Title</th>\n",
       "      <th>Content</th>\n",
       "      <th>Upvotes Count</th>\n",
       "      <th>Comments Count</th>\n",
       "      <th>Upvote Ratio</th>\n",
       "      <th>Flair</th>\n",
       "      <th>Permalink</th>\n",
       "      <th>Reddit ID</th>\n",
       "    </tr>\n",
       "  </thead>\n",
       "  <tbody>\n",
       "    <tr>\n",
       "      <th>592</th>\n",
       "      <td>2023-05-11 14:47:25</td>\n",
       "      <td>Text-only</td>\n",
       "      <td>Last Pay/Separation Pay</td>\n",
       "      <td>Entitled parin po ba ako for last pay or separation pay kahit immediate resignation ako? Sorry just want to clarify kasi 1st job ko siya. Thanks</td>\n",
       "      <td>1</td>\n",
       "      <td>5</td>\n",
       "      <td>0.67</td>\n",
       "      <td>Tips 🔔</td>\n",
       "      <td>https://www.reddit.com//r/AntiworkPH/comments/13efd22/last_payseparation_pay/</td>\n",
       "      <td>13efd22</td>\n",
       "    </tr>\n",
       "  </tbody>\n",
       "</table>\n",
       "</div>"
      ],
      "text/plain": [
       "               Timestamp Content Type                    Title  \\\n",
       "592  2023-05-11 14:47:25    Text-only  Last Pay/Separation Pay   \n",
       "\n",
       "                                                                                                                                              Content  \\\n",
       "592  Entitled parin po ba ako for last pay or separation pay kahit immediate resignation ako? Sorry just want to clarify kasi 1st job ko siya. Thanks   \n",
       "\n",
       "     Upvotes Count  Comments Count  Upvote Ratio   Flair  \\\n",
       "592              1               5          0.67  Tips 🔔   \n",
       "\n",
       "                                                                         Permalink  \\\n",
       "592  https://www.reddit.com//r/AntiworkPH/comments/13efd22/last_payseparation_pay/   \n",
       "\n",
       "    Reddit ID  \n",
       "592   13efd22  "
      ]
     },
     "execution_count": 4,
     "metadata": {},
     "output_type": "execute_result"
    }
   ],
   "source": [
    "df3.tail(1)"
   ]
  }
 ],
 "metadata": {
  "kernelspec": {
   "display_name": ".scrape",
   "language": "python",
   "name": "python3"
  },
  "language_info": {
   "codemirror_mode": {
    "name": "ipython",
    "version": 3
   },
   "file_extension": ".py",
   "mimetype": "text/x-python",
   "name": "python",
   "nbconvert_exporter": "python",
   "pygments_lexer": "ipython3",
   "version": "3.12.0"
  }
 },
 "nbformat": 4,
 "nbformat_minor": 2
}
