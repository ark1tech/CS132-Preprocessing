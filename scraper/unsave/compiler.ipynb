{
 "cells": [
  {
   "cell_type": "markdown",
   "metadata": {},
   "source": [
    "##### This compiles all the Reddit IDs of the scraped submissions to be unsaved by `unsave.py`"
   ]
  },
  {
   "cell_type": "code",
   "execution_count": 2,
   "metadata": {},
   "outputs": [],
   "source": [
    "import pandas as pd # pip install pandas\n",
    "\n",
    "df1 = pd.read_csv(\"../../dataset/raw/hot.csv\")['Reddit ID'][1:]\n",
    "df2 = pd.read_csv(\"../../dataset/raw/top.csv\")['Reddit ID'][1:]\n",
    "df3 = pd.read_csv(\"../../dataset/raw/controversial.csv\")['Reddit ID'][1:]"
   ]
  },
  {
   "cell_type": "code",
   "execution_count": 4,
   "metadata": {},
   "outputs": [],
   "source": [
    "pd.concat([df1, df2, df3]).to_csv(\"saved_list.txt\", header=None, index=None, mode='a')"
   ]
  }
 ],
 "metadata": {
  "kernelspec": {
   "display_name": ".scrape",
   "language": "python",
   "name": "python3"
  },
  "language_info": {
   "codemirror_mode": {
    "name": "ipython",
    "version": 3
   },
   "file_extension": ".py",
   "mimetype": "text/x-python",
   "name": "python",
   "nbconvert_exporter": "python",
   "pygments_lexer": "ipython3",
   "version": "3.12.0"
  }
 },
 "nbformat": 4,
 "nbformat_minor": 2
}
