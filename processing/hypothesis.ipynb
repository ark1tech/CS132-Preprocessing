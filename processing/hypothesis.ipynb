{
 "cells": [
  {
   "cell_type": "markdown",
   "metadata": {},
   "source": [
    "### Dependencies"
   ]
  },
  {
   "cell_type": "code",
   "execution_count": null,
   "metadata": {},
   "outputs": [],
   "source": [
    "import re\n",
    "\n",
    "# pip install pandas\n",
    "import pandas as pd\n",
    "\n",
    "# pip install numpy\n",
    "import numpy as np\n",
    "\n",
    "# pip install chisquare\n",
    "from scipy.stats import chisquare"
   ]
  },
  {
   "cell_type": "code",
   "execution_count": null,
   "metadata": {},
   "outputs": [],
   "source": [
    "pd.set_option('display.max_columns', None)  # or 1000\n",
    "pd.set_option('display.max_rows', None)  # or 1000\n",
    "pd.set_option('display.max_colwidth', None)  # or 199\n",
    "\n",
    "df = pd.read_csv(\"../dataset/_compiled/Clustered.csv\")"
   ]
  },
  {
   "cell_type": "markdown",
   "metadata": {},
   "source": [
    "### Research Question #1"
   ]
  },
  {
   "cell_type": "code",
   "execution_count": null,
   "metadata": {},
   "outputs": [],
   "source": [
    "#hypothesis: if prevalent topics are about unfair contracts and job offerings\n",
    "\n",
    "rows, cols = df.shape\n",
    "\n",
    "unfair_contract = pd.Index(df[df['Unfair Contract?'] == 1]['Submission ID'])\n",
    "unfair_job_offer = pd.Index(df[df['Unfair Job Offer?'] == 1]['Submission ID'])\n",
    "unfair_both_union = unfair_contract.union(unfair_job_offer).size                #total number of posts manually tagged about unfair contracts and job offeerings\n",
    "not_unfair = rows - unfair_both_union                                           #total number of posts manually tagged to not be about unfair contracts and job offerings\n",
    "\n",
    "observed = [unfair_both_union, not_unfair]\n",
    "expected = [rows//2, rows//2]\n",
    "\n",
    "chi_squared, p_value = chisquare(f_obs = observed, f_exp = expected)\n",
    "print(chi_squared, p_value)"
   ]
  },
  {
   "cell_type": "code",
   "execution_count": null,
   "metadata": {},
   "outputs": [],
   "source": [
    "print(unfair_both_union)\n",
    "print(not_unfair)\n",
    "print(expected[0])"
   ]
  },
  {
   "cell_type": "markdown",
   "metadata": {},
   "source": [
    "### Research Question #2"
   ]
  },
  {
   "cell_type": "code",
   "execution_count": null,
   "metadata": {},
   "outputs": [],
   "source": [
    "#if topic with most engagements is same as most prevalent topic\n",
    "rows, cols = df.shape\n",
    "\n",
    "#counts of unfair and not unfair posts\n",
    "unfair_contract = pd.Index(df[df['Unfair Contract?'] == 1]['Submission ID'])    #Index of Unfair Contract\n",
    "unfair_job_offer = pd.Index(df[df['Unfair Job Offer?'] == 1]['Submission ID'])  #Index of Unfair Job Offer\n",
    "unfair_both_union = unfair_contract.union(unfair_job_offer)\n",
    "not_unfair_size = rows - unfair_both_union.size                                 #Count ONLY of Not Unfair\n",
    "\n",
    "#total number of engagements of Unfair Union\n",
    "ulist = list(unfair_both_union)\n",
    "unfair_Engagements = []\n",
    "for i in ulist:\n",
    "  unfair_Engagements.append(int(df[df['Submission ID'] == i]['Engagements'].iloc[0]))\n",
    "unfair_engagements_sum = sum(unfair_Engagements)\n",
    "\n",
    "#total number of engagements of Not Unfair\n",
    "total_engagements = df['Engagements'].sum()\n",
    "not_unfair_engagements_sum = total_engagements - unfair_engagements_sum\n",
    "\n",
    "observed_engagements = [unfair_engagements_sum / unfair_both_union.size, not_unfair_engagements_sum / not_unfair_size]\n",
    "expected_engagements = [total_engagements/(2*rows), total_engagements/(2*rows)]\n",
    "\n",
    "chi_squared, p_value = chisquare(f_obs = observed_engagements)\n",
    "print(chi_squared, p_value)"
   ]
  },
  {
   "cell_type": "code",
   "execution_count": null,
   "metadata": {},
   "outputs": [],
   "source": [
    "print(observed_engagements)\n",
    "print(expected_engagements)"
   ]
  }
 ],
 "metadata": {
  "kernelspec": {
   "display_name": ".scrape",
   "language": "python",
   "name": "python3"
  },
  "language_info": {
   "name": "python",
   "version": "3.12.0"
  }
 },
 "nbformat": 4,
 "nbformat_minor": 2
}
