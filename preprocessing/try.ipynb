{
 "cells": [
  {
   "cell_type": "code",
   "execution_count": 6,
   "metadata": {},
   "outputs": [
    {
     "name": "stdout",
     "output_type": "stream",
     "text": [
      "{'wont', 'do', 'a', 'is', 'other', 'couldnt', 'mustnt', 'will', 'because', 'she', 'mustn', 'but', 'ourselves', 'while', 'over', 'that', 't', 'are', 'each', 'this', 'his', 'having', 'further', 'what', 'both', 'aren', 'just', 'about', 'were', 'have', 'by', 'those', 'out', 'youve', 'why', 'y', 'down', 'here', 'he', 'not', 'd', 'shouldnt', 'himself', 'where', 'your', 'whom', 'through', 'mightnt', 'did', 'which', 'so', 'ma', 'neednt', 'wasn', 'then', 'mightn', 'me', 'until', 'you', 'youd', 'more', 'won', 'theirs', 'herself', 'thatll', 'shant', 'hasnt', 'all', 'some', 'nor', 'before', 'once', 'on', 'wouldn', 'into', 'own', 'hers', 'our', 'doing', 'havent', 'shes', 'youre', 'i', 'youll', 'they', 'we', 'and', 'be', 'didn', 'wouldnt', 'weren', 'being', 'shouldve', 'couldn', 'its', 've', 'no', 'when', 'than', 'yours', 'below', 'had', 'who', 'their', 'the', 'now', 'll', 'there', 'same', 'haven', 'such', 'off', 'myself', 'them', 'or', 'of', 're', 'themselves', 'itself', 'few', 'in', 'doesn', 'o', 'ours', 'shan', 'should', 'her', 'my', 'shouldn', 'hadn', 'too', 'yourselves', 'above', 'up', 'wasnt', 'was', 'isnt', 'dont', 'isn', 'as', 'how', 'only', 'any', 'him', 'has', 'again', 'with', 'ain', 'very', 'most', 'between', 'an', 'been', 'if', 's', 'at', 'to', 'needn', 'didnt', 'doesnt', 'don', 'against', 'hadnt', 'am', 'from', 'under', 'during', 'hasn', 'for', 'm', 'it', 'after', 'werent', 'does', 'can', 'yourself', 'these', 'arent', 'im'}\n",
      "['good', 'good', 'game']\n"
     ]
    }
   ],
   "source": [
    "import nltk\n",
    "from nltk.corpus import stopwords\n",
    "from nltk.tokenize import word_tokenize\n",
    "import string\n",
    "\n",
    "# stop_words = set()\n",
    "stop_words = set([x.translate(str.maketrans('', '', string.punctuation)) for x in [*stopwords.words('english'), \"im\", \"were\", \"youre\"]])\n",
    "word_tokens = word_tokenize(\"\")\n",
    "filtered_words = [word for word in word_tokens if word not in stop_words]\n",
    "print(filtered_words)"
   ]
  }
 ],
 "metadata": {
  "kernelspec": {
   "display_name": ".scrape",
   "language": "python",
   "name": "python3"
  },
  "language_info": {
   "codemirror_mode": {
    "name": "ipython",
    "version": 3
   },
   "file_extension": ".py",
   "mimetype": "text/x-python",
   "name": "python",
   "nbconvert_exporter": "python",
   "pygments_lexer": "ipython3",
   "version": "3.12.0"
  }
 },
 "nbformat": 4,
 "nbformat_minor": 2
}
