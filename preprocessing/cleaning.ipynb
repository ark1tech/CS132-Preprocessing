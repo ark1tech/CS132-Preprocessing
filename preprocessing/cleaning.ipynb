{
 "cells": [
  {
   "cell_type": "code",
   "execution_count": 102,
   "metadata": {},
   "outputs": [],
   "source": [
    "import pandas as pd # pip install pandas\n",
    "import re # pip install re\n",
    "import string \n",
    "import markdown # pip install markdown\n",
    "from bs4 import BeautifulSoup # pip install beautifulsoup4\n",
    "import csv\n",
    "import emoji\n",
    "import nltk\n",
    "\n",
    "pd.set_option('display.max_columns', None)  # or 1000\n",
    "pd.set_option('display.max_rows', None)  # or 1000\n",
    "pd.set_option('display.max_colwidth', None)  # or 199\n",
    "\n",
    "hot = pd.read_csv(\"../dataset/raw/hot.csv\")\n",
    "top = pd.read_csv(\"../dataset/raw/top.csv\")\n",
    "controversial = pd.read_csv(\"../dataset/raw/controversial.csv\")\n",
    "new = pd.read_csv(\"../dataset/raw/new.csv\")\n",
    "\n",
    "df = pd.concat([hot, top, controversial, new], ignore_index=True)"
   ]
  },
  {
   "cell_type": "code",
   "execution_count": 103,
   "metadata": {},
   "outputs": [
    {
     "data": {
      "text/plain": [
       "(1978, 10)"
      ]
     },
     "execution_count": 103,
     "metadata": {},
     "output_type": "execute_result"
    }
   ],
   "source": [
    "df.dropna(subset=['Content'], inplace=True)\n",
    "df.shape"
   ]
  },
  {
   "cell_type": "code",
   "execution_count": 104,
   "metadata": {},
   "outputs": [],
   "source": [
    "import unicodedata\n",
    "import sys\n",
    "URL_REGEX = r\".*(https?:\\/\\/)?([\\da-z\\.-]+)\\.([a-z\\.]{2,6})([\\/\\w\\.-]*).*\"\n",
    "punctuation = \"\".join((chr(i) for i in range(sys.maxunicode) if unicodedata.category(chr(i)).startswith('P')))\n",
    "\n",
    "# Remove URLs\n",
    "def remove_url(cell):\n",
    "    return re.sub(URL_REGEX, \"\", str(cell))\n",
    "\n",
    "# Convert markdown to plaintext \n",
    "def md_to_text(cell):\n",
    "    html = markdown.markdown(cell)\n",
    "    soup = BeautifulSoup(html, features='html.parser')\n",
    "    return soup.get_text()\n",
    "\n",
    "# Replace NaN and \\n \n",
    "def remove_NaN_newline(cell):\n",
    "    return re.sub(r\"(\\n|NaN|nan)\", \" \", str(cell))\n",
    "\n",
    "def remove_punctuation(cell):\n",
    "    return cell.translate(str.maketrans('', '', punctuation))\n",
    "\n",
    "# Convert slangs\n",
    "def replace_abbrv(cell):\n",
    "    user_string = str(cell)\n",
    "    user_string = user_string.split(\" \")\n",
    "    j = 0\n",
    "    for _str in user_string:\n",
    "        fileName = \"slang.txt\"\n",
    "        accessMode = \"r\"\n",
    "        with open(fileName, accessMode) as myCSVfile:\n",
    "            dataFromFile = csv.reader(myCSVfile, delimiter=\"=\")\n",
    "            _str = re.sub('[^a-zA-Z0-9-_.]', '', _str)\n",
    "            for row in dataFromFile:\n",
    "                # if re.findall(fr\"{_str}\", row[0], flags=re.IGNORECASE):\n",
    "                if _str.lower() == row[0].lower():\n",
    "                    user_string[j] = row[1]\n",
    "            myCSVfile.close()\n",
    "        j = j + 1\n",
    "    return ' '.join(user_string)\n",
    "\n",
    "def remove_emoji(text):\n",
    "    return emoji.replace_emoji(text, replace=\"\")\n",
    "\n",
    "def remove_numbers(cell):\n",
    "    return re.sub(r\"\\d+\", \" \", str(cell))\n",
    "\n",
    "def lowercase(cell):\n",
    "    return str(cell).lower()"
   ]
  },
  {
   "cell_type": "code",
   "execution_count": 105,
   "metadata": {},
   "outputs": [],
   "source": [
    "df['Content'] = df['Content'].apply(replace_abbrv)\n",
    "df['Content'] = df['Content'].apply(remove_url)\n",
    "df['Content'] = df['Content'].apply(md_to_text)\n",
    "df['Content'] = df['Content'].apply(remove_NaN_newline)\n",
    "df['Content'] = df['Content'].apply(remove_emoji)\n",
    "df['Content'] = df['Content'].apply(remove_numbers)\n",
    "df['Content'] = df['Content'].apply(lowercase)\n",
    "df['Content'] = df['Content'].apply(remove_punctuation)\n",
    "\n",
    "df['Title'] = df['Title'].apply(replace_abbrv)\n",
    "df['Title'] = df['Title'].apply(remove_url)\n",
    "df['Title'] = df['Title'].apply(md_to_text)\n",
    "df['Title'] = df['Title'].apply(remove_NaN_newline)\n",
    "df['Title'] = df['Title'].apply(remove_emoji)\n",
    "df['Title'] = df['Title'].apply(remove_numbers)\n",
    "df['Title'] = df['Title'].apply(lowercase)\n",
    "df['Title'] = df['Title'].apply(remove_punctuation)"
   ]
  },
  {
   "cell_type": "code",
   "execution_count": 106,
   "metadata": {},
   "outputs": [],
   "source": [
    "df[\"Title+Content\"] = df[\"Title\"] + \" \" + df[\"Content\"]\n",
    "df.reset_index(drop=True, inplace=True)"
   ]
  },
  {
   "cell_type": "markdown",
   "metadata": {},
   "source": [
    "### Translation to English"
   ]
  },
  {
   "cell_type": "code",
   "execution_count": 107,
   "metadata": {},
   "outputs": [],
   "source": [
    "from deep_translator import GoogleTranslator\n",
    "import math"
   ]
  },
  {
   "cell_type": "code",
   "execution_count": 108,
   "metadata": {},
   "outputs": [],
   "source": [
    "def trans(text):\n",
    "    if len(text) > 5000:\n",
    "        text_1 = GoogleTranslator(source='tl', target='en').translate(text[:math.floor(len(text)/2)]) \n",
    "        text_2 = GoogleTranslator(source='tl', target='en').translate(text[math.floor(len(text)/2):]) \n",
    "        return text_1 + \" \" + text_2\n",
    "    else:   \n",
    "        return GoogleTranslator(source='tl', target='en').translate(text)"
   ]
  },
  {
   "cell_type": "code",
   "execution_count": 109,
   "metadata": {},
   "outputs": [],
   "source": [
    "trans_1 = df['Title+Content'][:500].apply(trans)"
   ]
  },
  {
   "cell_type": "code",
   "execution_count": 110,
   "metadata": {},
   "outputs": [],
   "source": [
    "trans_2 = df['Title+Content'][500:1000].apply(trans)"
   ]
  },
  {
   "cell_type": "code",
   "execution_count": 111,
   "metadata": {},
   "outputs": [],
   "source": [
    "trans_3 = df['Title+Content'][1000:1500].apply(trans)"
   ]
  },
  {
   "cell_type": "code",
   "execution_count": 112,
   "metadata": {},
   "outputs": [],
   "source": [
    "trans_4 = df['Title+Content'][1500:2000].apply(trans)"
   ]
  },
  {
   "cell_type": "code",
   "execution_count": 113,
   "metadata": {},
   "outputs": [],
   "source": [
    "trans_5 = df['Title+Content'][2000:].apply(trans)"
   ]
  },
  {
   "cell_type": "code",
   "execution_count": 114,
   "metadata": {},
   "outputs": [],
   "source": [
    "df_test = pd.concat([trans_1, trans_2, trans_3, trans_4, trans_5])"
   ]
  },
  {
   "cell_type": "code",
   "execution_count": 115,
   "metadata": {},
   "outputs": [],
   "source": [
    "df_test = df_test.to_frame().rename(columns={\"Title+Content\":\"Translated\"})"
   ]
  },
  {
   "cell_type": "code",
   "execution_count": 116,
   "metadata": {},
   "outputs": [],
   "source": [
    "df_test[\"Translated\"] = df_test[\"Translated\"].apply(remove_punctuation)\n",
    "df_test[\"Translated\"] = df_test[\"Translated\"].apply(lowercase)"
   ]
  },
  {
   "cell_type": "code",
   "execution_count": 117,
   "metadata": {},
   "outputs": [],
   "source": [
    "df.insert(5, \"Translated\", df_test)"
   ]
  },
  {
   "cell_type": "code",
   "execution_count": 118,
   "metadata": {},
   "outputs": [
    {
     "data": {
      "text/html": [
       "<div>\n",
       "<style scoped>\n",
       "    .dataframe tbody tr th:only-of-type {\n",
       "        vertical-align: middle;\n",
       "    }\n",
       "\n",
       "    .dataframe tbody tr th {\n",
       "        vertical-align: top;\n",
       "    }\n",
       "\n",
       "    .dataframe thead th {\n",
       "        text-align: right;\n",
       "    }\n",
       "</style>\n",
       "<table border=\"1\" class=\"dataframe\">\n",
       "  <thead>\n",
       "    <tr style=\"text-align: right;\">\n",
       "      <th></th>\n",
       "      <th>Timestamp</th>\n",
       "      <th>Content Type</th>\n",
       "      <th>Title</th>\n",
       "      <th>Content</th>\n",
       "      <th>Upvotes Count</th>\n",
       "      <th>Translated</th>\n",
       "      <th>Comments Count</th>\n",
       "      <th>Upvote Ratio</th>\n",
       "      <th>Flair</th>\n",
       "      <th>Permalink</th>\n",
       "      <th>Reddit ID</th>\n",
       "      <th>Title+Content</th>\n",
       "    </tr>\n",
       "  </thead>\n",
       "  <tbody>\n",
       "    <tr>\n",
       "      <th>0</th>\n",
       "      <td>2024-04-21 13:01:23</td>\n",
       "      <td>Text-only</td>\n",
       "      <td>esena</td>\n",
       "      <td>help i filed a request for assistance sa esena re last pay na inabot ng   months at coe last friday meron na akong ref number ng request for assistance kaso that same day biglang nagmessage ang human resources na okay na ang cheke ng last pay ko at pwede ko na sya ipick up my question is paano icancel yung request for assistance since nakuha ko na yung last pay at coe ko thank you po</td>\n",
       "      <td>2</td>\n",
       "      <td>esena help i filed a request for assistance at esena re last pay that took months and coe last friday i have the ref number of the request for assistance case that same day suddenly the human resources messaged that the check of my last pay is okay and can i have already picked him up my question is how to cancel the request for assistance since i already got my last pay and coe thank you</td>\n",
       "      <td>3</td>\n",
       "      <td>1.00</td>\n",
       "      <td>Advice Needed 🤔</td>\n",
       "      <td>https://www.reddit.com//r/AntiworkPH/comments/1c99rt3/esena/</td>\n",
       "      <td>1c99rt3</td>\n",
       "      <td>esena help i filed a request for assistance sa esena re last pay na inabot ng   months at coe last friday meron na akong ref number ng request for assistance kaso that same day biglang nagmessage ang human resources na okay na ang cheke ng last pay ko at pwede ko na sya ipick up my question is paano icancel yung request for assistance since nakuha ko na yung last pay at coe ko thank you po</td>\n",
       "    </tr>\n",
       "    <tr>\n",
       "      <th>1</th>\n",
       "      <td>2024-04-20 14:50:31</td>\n",
       "      <td>Text-only</td>\n",
       "      <td>dodged a bad company and human resources i guess</td>\n",
       "      <td>ive applied for one of the subsidiaries of aboitiz and id really like to share how horrible the application process or how the human resources handled it i guess was bale i just graduated from my electrical engineering degree this january and ive started to apply to a few companies including this subsidiary from aboitiz when compared to companies ive also done interviews with like pldt jg summit and smc sobrang nakakadisappoint yung experience ko with aboitiz i had my expectations for aboitiz since it was known to be one of the top companies and employers sa philippines kaya siguro naman formal and may class talaga yung way kung paano makipagcommunicate yung human resources right kaso hindi para bang nakikipagcommunicate lang ako with someone sa isang lowend company who is deeply struggling in handling communications ang problema pa rito was that i was the one who was understanding and patient kahit na sila yung may lapses in handling my application three months have passed and theyve contacted me saying that my application was already being considered but it was placed on hold due to a problem sa vacancy ng position with that i just had to withdraw and say that i wasnt already comfortable with the process and how poorly they were handling my application i withdrew kasi baka my application was a hassle on their end pala tsaka baka hinihintay lang talaga ng human resources na magbreak ako towards their treatmentattitude nagreply yung human resources sa withdrawal ko hindi ko malagay exact phrases but heres the gist human resources said the usual stuff muna like were deeply sorry about the inconviences made on your end blablabla sorry to see you go tapos ayon sa dulo sinabi na sobrang arte ko raw for complaining and that i should man up more to understand reallife problems that are being encounted sa office nila i shouldnt be complaining din daw kasi hindi naman ako employee to ask for something on their end what i was just asking for was respect heres one one out of a lot inconvenienceproblem that happened they asked me to attend an f f interview sa office nila the two hour travel going to their office didnt matter kasi i was enjoying my stay sa province namin to avoid the city heat however when i arrived then waited for two hours sa lobby nobody sa division division ata or department kung saan yung mga mamemeet ko remembered that i had a scheduled interview the human resources responsible for this was called to have a meeting sa ibang office at a different city so nobody was left sa office nila to where i was to arrangeconduct the interview so ayon ending was that i was asked to go home instead forgave them for that kasi understandable na baka may miscommunications sila sa office kaso ayun lang binerate pa ako ng hr</td>\n",
       "      <td>26</td>\n",
       "      <td>dodged a bad company and human resources i guess ive applied for one of the subsidiaries of aboitiz and id really like to share how horrible the application process or how the human resources handled it i guess was bale i just graduated from my electrical engineering degree this january and ive started to apply to a few companies including this subsidiary from aboitiz when compared to companies ive also done interviews with like pldt jg summit and smc my experience with aboitiz was very disappointing i had my expectations for aboitiz since it was known to be one of the top companies and employers in the philippines so maybe the way human resources communicate is formal and classy ​​right its not like im just communicating with someone in a lowend company who is deeply struggling in handling communications the problem here was that i was the one who was understanding and patient even though they were the ones who had lapses in handling my application three months have passed and theyve contacted me saying that my application was already being considered but it was placed on hold due to a problem with the vacancy of the position with that i just had to withdraw and say that i wasnt already comfortable with the process and how poorly they were handling my application i withdrew because maybe my application was a hassle on their end besides maybe human resources is really just waiting for me to break towards their treatmentattitude human resources replied to my withdrawal i cant put exact phrases but heres the gist human resources said the usual stuff first like were deeply sorry about the inconveniences made on your end blablabla sorry to see you go then according to the end they said i was too arty raw for complaining and that i should man up more to understand reallife problems that are being encountered in their office i shouldnt be complaining too because i am not an employee to ask for something on their end what i was just asking for was respect heres one one out of a lot inconvenience problem that happened they asked me to attend an f f interview in their office the two hour travel going to their office didnt matter because i was enjoying my stay in our province to avoid the city heat however when i arrived then waited for two hours in the lobby nobody in the division division or department where the people i met remembered that i had a scheduled interview the human resources responsible for this was called to have a meeting in another office in a different city so nobody was left in their office where i was to arrangeconduct the interview so according to the ending was that i was asked to go home instead forgave them for that because it is understandable that they might have miscommunications in the office in that case the hr still rated me</td>\n",
       "      <td>2</td>\n",
       "      <td>0.93</td>\n",
       "      <td>Story 🗣️</td>\n",
       "      <td>https://www.reddit.com//r/AntiworkPH/comments/1c8jhvr/dodged_a_bad_company_and_hr_i_guess/</td>\n",
       "      <td>1c8jhvr</td>\n",
       "      <td>dodged a bad company and human resources i guess ive applied for one of the subsidiaries of aboitiz and id really like to share how horrible the application process or how the human resources handled it i guess was bale i just graduated from my electrical engineering degree this january and ive started to apply to a few companies including this subsidiary from aboitiz when compared to companies ive also done interviews with like pldt jg summit and smc sobrang nakakadisappoint yung experience ko with aboitiz i had my expectations for aboitiz since it was known to be one of the top companies and employers sa philippines kaya siguro naman formal and may class talaga yung way kung paano makipagcommunicate yung human resources right kaso hindi para bang nakikipagcommunicate lang ako with someone sa isang lowend company who is deeply struggling in handling communications ang problema pa rito was that i was the one who was understanding and patient kahit na sila yung may lapses in handling my application three months have passed and theyve contacted me saying that my application was already being considered but it was placed on hold due to a problem sa vacancy ng position with that i just had to withdraw and say that i wasnt already comfortable with the process and how poorly they were handling my application i withdrew kasi baka my application was a hassle on their end pala tsaka baka hinihintay lang talaga ng human resources na magbreak ako towards their treatmentattitude nagreply yung human resources sa withdrawal ko hindi ko malagay exact phrases but heres the gist human resources said the usual stuff muna like were deeply sorry about the inconviences made on your end blablabla sorry to see you go tapos ayon sa dulo sinabi na sobrang arte ko raw for complaining and that i should man up more to understand reallife problems that are being encounted sa office nila i shouldnt be complaining din daw kasi hindi naman ako employee to ask for something on their end what i was just asking for was respect heres one one out of a lot inconvenienceproblem that happened they asked me to attend an f f interview sa office nila the two hour travel going to their office didnt matter kasi i was enjoying my stay sa province namin to avoid the city heat however when i arrived then waited for two hours sa lobby nobody sa division division ata or department kung saan yung mga mamemeet ko remembered that i had a scheduled interview the human resources responsible for this was called to have a meeting sa ibang office at a different city so nobody was left sa office nila to where i was to arrangeconduct the interview so ayon ending was that i was asked to go home instead forgave them for that kasi understandable na baka may miscommunications sila sa office kaso ayun lang binerate pa ako ng hr</td>\n",
       "    </tr>\n",
       "    <tr>\n",
       "      <th>2</th>\n",
       "      <td>2024-04-20 12:11:03</td>\n",
       "      <td>Image</td>\n",
       "      <td>sick leave na pahirapan</td>\n",
       "      <td>im under an agency nag file ako ng sick leave for some reason not because im sick  prior to that nag ask na ako ng permission sa client ko   days ahead i also provided med cert  tapos itong company nato need pa ng screenshotdocumentation na nag ask ako ng permission sa client so balewala yung med cert ko wala yung acknowledgement from client  ganito ba talaga kahirap mah file ng sick leave sa pilipinas</td>\n",
       "      <td>37</td>\n",
       "      <td>sick leave to be tortured im under an agency i filed a sick leave for some reason not because im sick prior to that i asked permission from my client days ahead i also provided med cert then this company we still need a screenshotdocumentation that i asked permission from the client so my med cert is irrelevant there is no acknowledgment from the client is it really this difficult to file a sick leave in the philippines</td>\n",
       "      <td>6</td>\n",
       "      <td>0.94</td>\n",
       "      <td>Rant 😡</td>\n",
       "      <td>https://www.reddit.com//r/AntiworkPH/comments/1c8gv4u/sick_leave_na_pahirapan/</td>\n",
       "      <td>1c8gv4u</td>\n",
       "      <td>sick leave na pahirapan im under an agency nag file ako ng sick leave for some reason not because im sick  prior to that nag ask na ako ng permission sa client ko   days ahead i also provided med cert  tapos itong company nato need pa ng screenshotdocumentation na nag ask ako ng permission sa client so balewala yung med cert ko wala yung acknowledgement from client  ganito ba talaga kahirap mah file ng sick leave sa pilipinas</td>\n",
       "    </tr>\n",
       "    <tr>\n",
       "      <th>3</th>\n",
       "      <td>2024-04-21 00:36:41</td>\n",
       "      <td>Text-only</td>\n",
       "      <td>help a nervous young adult out</td>\n",
       "      <td>​  overkill ba yung   hours a week magkakaroon pa kaya ako nito ng worklife balance oks ba yung  k starting pay as probationary for   months hindi ko rin matukoy kung oks kasi hindi ko pa alam masyado yung workload eh kung chill oks naman pero kung magiging overworked ako edi super kulang haha  for people who have worked this role kumusta kindly let me know if maganda ba tong role na to or what haha  ​ ayun maraming salamat sa mga sasagot pasensiya na sa gulo at sa mga tanong wala kasi akong magulangolder adult sa buhay kaya walang mahingian ng guidance tips and encouragement haha  thank you uli</td>\n",
       "      <td>1</td>\n",
       "      <td>help a nervous young adult out are the hours a week too much will i still have a worklife balance is starting pay as probationary for months ok but if i become overworked its super lacking haha ​​for people who have worked this role how are you kindly let me know if this role is good or what haha ​​​ well thank you very much to those who will answer sorry for the trouble and the questions because i dont have parents adult in life so no one can ask for guidance tips and encouragement haha ​​thank you again</td>\n",
       "      <td>0</td>\n",
       "      <td>0.67</td>\n",
       "      <td>Advice Needed 🤔</td>\n",
       "      <td>https://www.reddit.com//r/AntiworkPH/comments/1c8u95a/help_a_nervous_young_adult_out/</td>\n",
       "      <td>1c8u95a</td>\n",
       "      <td>help a nervous young adult out  ​  overkill ba yung   hours a week magkakaroon pa kaya ako nito ng worklife balance oks ba yung  k starting pay as probationary for   months hindi ko rin matukoy kung oks kasi hindi ko pa alam masyado yung workload eh kung chill oks naman pero kung magiging overworked ako edi super kulang haha  for people who have worked this role kumusta kindly let me know if maganda ba tong role na to or what haha  ​ ayun maraming salamat sa mga sasagot pasensiya na sa gulo at sa mga tanong wala kasi akong magulangolder adult sa buhay kaya walang mahingian ng guidance tips and encouragement haha  thank you uli</td>\n",
       "    </tr>\n",
       "    <tr>\n",
       "      <th>4</th>\n",
       "      <td>2024-04-21 00:15:20</td>\n",
       "      <td>Text-only</td>\n",
       "      <td>absent without leave kumustahan</td>\n",
       "      <td>i know this maybe off pero curious talaga ako  sa former government employees dito na nagawol kumusta kayo hirap panong magclearance daw kaso gusto ko na talagang umalis dito as soon as possible since super toxic na never again na talaga akong magovernment</td>\n",
       "      <td>1</td>\n",
       "      <td>absent without leave how are you i know this maybe off but im really curious about the former government employees here who have been lost how are you how are you having a hard time getting clearance i really want to leave here as soon as possible since its super toxic and ill never really be in government again</td>\n",
       "      <td>4</td>\n",
       "      <td>1.00</td>\n",
       "      <td>Discussions 💭</td>\n",
       "      <td>https://www.reddit.com//r/AntiworkPH/comments/1c8trku/awol_kumustahan/</td>\n",
       "      <td>1c8trku</td>\n",
       "      <td>absent without leave kumustahan i know this maybe off pero curious talaga ako  sa former government employees dito na nagawol kumusta kayo hirap panong magclearance daw kaso gusto ko na talagang umalis dito as soon as possible since super toxic na never again na talaga akong magovernment</td>\n",
       "    </tr>\n",
       "  </tbody>\n",
       "</table>\n",
       "</div>"
      ],
      "text/plain": [
       "             Timestamp Content Type  \\\n",
       "0  2024-04-21 13:01:23    Text-only   \n",
       "1  2024-04-20 14:50:31    Text-only   \n",
       "2  2024-04-20 12:11:03        Image   \n",
       "3  2024-04-21 00:36:41    Text-only   \n",
       "4  2024-04-21 00:15:20    Text-only   \n",
       "\n",
       "                                              Title  \\\n",
       "0                                             esena   \n",
       "1  dodged a bad company and human resources i guess   \n",
       "2                           sick leave na pahirapan   \n",
       "3                   help a nervous young adult out    \n",
       "4                   absent without leave kumustahan   \n",
       "\n",
       "                                                                                                                                                                                                                                                                                                                                                                                                                                                                                                                                                                                                                                                                                                                                                                                                                                                                                                                                                                                                                                                                                                                                                                                                                                                                                                                                                                                                                                                                                                                                                                                                                                                                                                                                                                                                                                                                                                                                                                                                                                                                                                                                                                                                                                                                                                                                                                                                                                                                                                                                                                                                                                                                                                                                                                                                                                                                         Content  \\\n",
       "0                                                                                                                                                                                                                                                                                                                                                                                                                                                                                                                                                                                                                                                                                                                                                                                                                                                                                                                                                                                                                                                                                                                                                                                                                                                                                                                                                                                                                                                                                                                                                                                                                                                                                                                                                                                                                                                                                                                                                                                                                                                                                                                                                                                                                                                                                                                                                                                                                                                                             help i filed a request for assistance sa esena re last pay na inabot ng   months at coe last friday meron na akong ref number ng request for assistance kaso that same day biglang nagmessage ang human resources na okay na ang cheke ng last pay ko at pwede ko na sya ipick up my question is paano icancel yung request for assistance since nakuha ko na yung last pay at coe ko thank you po   \n",
       "1  ive applied for one of the subsidiaries of aboitiz and id really like to share how horrible the application process or how the human resources handled it i guess was bale i just graduated from my electrical engineering degree this january and ive started to apply to a few companies including this subsidiary from aboitiz when compared to companies ive also done interviews with like pldt jg summit and smc sobrang nakakadisappoint yung experience ko with aboitiz i had my expectations for aboitiz since it was known to be one of the top companies and employers sa philippines kaya siguro naman formal and may class talaga yung way kung paano makipagcommunicate yung human resources right kaso hindi para bang nakikipagcommunicate lang ako with someone sa isang lowend company who is deeply struggling in handling communications ang problema pa rito was that i was the one who was understanding and patient kahit na sila yung may lapses in handling my application three months have passed and theyve contacted me saying that my application was already being considered but it was placed on hold due to a problem sa vacancy ng position with that i just had to withdraw and say that i wasnt already comfortable with the process and how poorly they were handling my application i withdrew kasi baka my application was a hassle on their end pala tsaka baka hinihintay lang talaga ng human resources na magbreak ako towards their treatmentattitude nagreply yung human resources sa withdrawal ko hindi ko malagay exact phrases but heres the gist human resources said the usual stuff muna like were deeply sorry about the inconviences made on your end blablabla sorry to see you go tapos ayon sa dulo sinabi na sobrang arte ko raw for complaining and that i should man up more to understand reallife problems that are being encounted sa office nila i shouldnt be complaining din daw kasi hindi naman ako employee to ask for something on their end what i was just asking for was respect heres one one out of a lot inconvenienceproblem that happened they asked me to attend an f f interview sa office nila the two hour travel going to their office didnt matter kasi i was enjoying my stay sa province namin to avoid the city heat however when i arrived then waited for two hours sa lobby nobody sa division division ata or department kung saan yung mga mamemeet ko remembered that i had a scheduled interview the human resources responsible for this was called to have a meeting sa ibang office at a different city so nobody was left sa office nila to where i was to arrangeconduct the interview so ayon ending was that i was asked to go home instead forgave them for that kasi understandable na baka may miscommunications sila sa office kaso ayun lang binerate pa ako ng hr   \n",
       "2                                                                                                                                                                                                                                                                                                                                                                                                                                                                                                                                                                                                                                                                                                                                                                                                                                                                                                                                                                                                                                                                                                                                                                                                                                                                                                                                                                                                                                                                                                                                                                                                                                                                                                                                                                                                                                                                                                                                                                                                                                                                                                                                                                                                                                                                                                                                                                                                                                                         im under an agency nag file ako ng sick leave for some reason not because im sick  prior to that nag ask na ako ng permission sa client ko   days ahead i also provided med cert  tapos itong company nato need pa ng screenshotdocumentation na nag ask ako ng permission sa client so balewala yung med cert ko wala yung acknowledgement from client  ganito ba talaga kahirap mah file ng sick leave sa pilipinas    \n",
       "3                                                                                                                                                                                                                                                                                                                                                                                                                                                                                                                                                                                                                                                                                                                                                                                                                                                                                                                                                                                                                                                                                                                                                                                                                                                                                                                                                                                                                                                                                                                                                                                                                                                                                                                                                                                                                                                                                                                                                                                                                                                                                                                                                                                                                                                     ​  overkill ba yung   hours a week magkakaroon pa kaya ako nito ng worklife balance oks ba yung  k starting pay as probationary for   months hindi ko rin matukoy kung oks kasi hindi ko pa alam masyado yung workload eh kung chill oks naman pero kung magiging overworked ako edi super kulang haha  for people who have worked this role kumusta kindly let me know if maganda ba tong role na to or what haha  ​ ayun maraming salamat sa mga sasagot pasensiya na sa gulo at sa mga tanong wala kasi akong magulangolder adult sa buhay kaya walang mahingian ng guidance tips and encouragement haha  thank you uli   \n",
       "4                                                                                                                                                                                                                                                                                                                                                                                                                                                                                                                                                                                                                                                                                                                                                                                                                                                                                                                                                                                                                                                                                                                                                                                                                                                                                                                                                                                                                                                                                                                                                                                                                                                                                                                                                                                                                                                                                                                                                                                                                                                                                                                                                                                                                                                                                                                                                                                                                                                                                                                                                                                                              i know this maybe off pero curious talaga ako  sa former government employees dito na nagawol kumusta kayo hirap panong magclearance daw kaso gusto ko na talagang umalis dito as soon as possible since super toxic na never again na talaga akong magovernment    \n",
       "\n",
       "   Upvotes Count  \\\n",
       "0              2   \n",
       "1             26   \n",
       "2             37   \n",
       "3              1   \n",
       "4              1   \n",
       "\n",
       "                                                                                                                                                                                                                                                                                                                                                                                                                                                                                                                                                                                                                                                                                                                                                                                                                                                                                                                                                                                                                                                                                                                                                                                                                                                                                                                                                                                                                                                                                                                                                                                                                                                                                                                                                                                                                                                                                                                                                                                                                                                                                                                                                                                                                                                                                                                                                                                                                                                                                                                                                                                                                                                                                                                                                                                                                                                                                                    Translated  \\\n",
       "0                                                                                                                                                                                                                                                                                                                                                                                                                                                                                                                                                                                                                                                                                                                                                                                                                                                                                                                                                                                                                                                                                                                                                                                                                                                                                                                                                                                                                                                                                                                                                                                                                                                                                                                                                                                                                                                                                                                                                                                                                                                                                                                                                                                                                                                                                                                                                                                                                                                                                                      esena help i filed a request for assistance at esena re last pay that took months and coe last friday i have the ref number of the request for assistance case that same day suddenly the human resources messaged that the check of my last pay is okay and can i have already picked him up my question is how to cancel the request for assistance since i already got my last pay and coe thank you   \n",
       "1  dodged a bad company and human resources i guess ive applied for one of the subsidiaries of aboitiz and id really like to share how horrible the application process or how the human resources handled it i guess was bale i just graduated from my electrical engineering degree this january and ive started to apply to a few companies including this subsidiary from aboitiz when compared to companies ive also done interviews with like pldt jg summit and smc my experience with aboitiz was very disappointing i had my expectations for aboitiz since it was known to be one of the top companies and employers in the philippines so maybe the way human resources communicate is formal and classy ​​right its not like im just communicating with someone in a lowend company who is deeply struggling in handling communications the problem here was that i was the one who was understanding and patient even though they were the ones who had lapses in handling my application three months have passed and theyve contacted me saying that my application was already being considered but it was placed on hold due to a problem with the vacancy of the position with that i just had to withdraw and say that i wasnt already comfortable with the process and how poorly they were handling my application i withdrew because maybe my application was a hassle on their end besides maybe human resources is really just waiting for me to break towards their treatmentattitude human resources replied to my withdrawal i cant put exact phrases but heres the gist human resources said the usual stuff first like were deeply sorry about the inconveniences made on your end blablabla sorry to see you go then according to the end they said i was too arty raw for complaining and that i should man up more to understand reallife problems that are being encountered in their office i shouldnt be complaining too because i am not an employee to ask for something on their end what i was just asking for was respect heres one one out of a lot inconvenience problem that happened they asked me to attend an f f interview in their office the two hour travel going to their office didnt matter because i was enjoying my stay in our province to avoid the city heat however when i arrived then waited for two hours in the lobby nobody in the division division or department where the people i met remembered that i had a scheduled interview the human resources responsible for this was called to have a meeting in another office in a different city so nobody was left in their office where i was to arrangeconduct the interview so according to the ending was that i was asked to go home instead forgave them for that because it is understandable that they might have miscommunications in the office in that case the hr still rated me   \n",
       "2                                                                                                                                                                                                                                                                                                                                                                                                                                                                                                                                                                                                                                                                                                                                                                                                                                                                                                                                                                                                                                                                                                                                                                                                                                                                                                                                                                                                                                                                                                                                                                                                                                                                                                                                                                                                                                                                                                                                                                                                                                                                                                                                                                                                                                                                                                                                                                                                                                                                      sick leave to be tortured im under an agency i filed a sick leave for some reason not because im sick prior to that i asked permission from my client days ahead i also provided med cert then this company we still need a screenshotdocumentation that i asked permission from the client so my med cert is irrelevant there is no acknowledgment from the client is it really this difficult to file a sick leave in the philippines   \n",
       "3                                                                                                                                                                                                                                                                                                                                                                                                                                                                                                                                                                                                                                                                                                                                                                                                                                                                                                                                                                                                                                                                                                                                                                                                                                                                                                                                                                                                                                                                                                                                                                                                                                                                                                                                                                                                                                                                                                                                                                                                                                                                                                                                                                                                                                                                                                                                                                               help a nervous young adult out are the hours a week too much will i still have a worklife balance is starting pay as probationary for months ok but if i become overworked its super lacking haha ​​for people who have worked this role how are you kindly let me know if this role is good or what haha ​​​ well thank you very much to those who will answer sorry for the trouble and the questions because i dont have parents adult in life so no one can ask for guidance tips and encouragement haha ​​thank you again   \n",
       "4                                                                                                                                                                                                                                                                                                                                                                                                                                                                                                                                                                                                                                                                                                                                                                                                                                                                                                                                                                                                                                                                                                                                                                                                                                                                                                                                                                                                                                                                                                                                                                                                                                                                                                                                                                                                                                                                                                                                                                                                                                                                                                                                                                                                                                                                                                                                                                                                                                                                                                                                                                                    absent without leave how are you i know this maybe off but im really curious about the former government employees here who have been lost how are you how are you having a hard time getting clearance i really want to leave here as soon as possible since its super toxic and ill never really be in government again   \n",
       "\n",
       "   Comments Count  Upvote Ratio            Flair  \\\n",
       "0               3          1.00  Advice Needed 🤔   \n",
       "1               2          0.93         Story 🗣️   \n",
       "2               6          0.94           Rant 😡   \n",
       "3               0          0.67  Advice Needed 🤔   \n",
       "4               4          1.00    Discussions 💭   \n",
       "\n",
       "                                                                                    Permalink  \\\n",
       "0                                https://www.reddit.com//r/AntiworkPH/comments/1c99rt3/esena/   \n",
       "1  https://www.reddit.com//r/AntiworkPH/comments/1c8jhvr/dodged_a_bad_company_and_hr_i_guess/   \n",
       "2              https://www.reddit.com//r/AntiworkPH/comments/1c8gv4u/sick_leave_na_pahirapan/   \n",
       "3       https://www.reddit.com//r/AntiworkPH/comments/1c8u95a/help_a_nervous_young_adult_out/   \n",
       "4                      https://www.reddit.com//r/AntiworkPH/comments/1c8trku/awol_kumustahan/   \n",
       "\n",
       "  Reddit ID  \\\n",
       "0   1c99rt3   \n",
       "1   1c8jhvr   \n",
       "2   1c8gv4u   \n",
       "3   1c8u95a   \n",
       "4   1c8trku   \n",
       "\n",
       "                                                                                                                                                                                                                                                                                                                                                                                                                                                                                                                                                                                                                                                                                                                                                                                                                                                                                                                                                                                                                                                                                                                                                                                                                                                                                                                                                                                                                                                                                                                                                                                                                                                                                                                                                                                                                                                                                                                                                                                                                                                                                                                                                                                                                                                                                                                                                                                                                                                                                                                                                                                                                                                                                                                                                                                                                                                                                                                    Title+Content  \n",
       "0                                                                                                                                                                                                                                                                                                                                                                                                                                                                                                                                                                                                                                                                                                                                                                                                                                                                                                                                                                                                                                                                                                                                                                                                                                                                                                                                                                                                                                                                                                                                                                                                                                                                                                                                                                                                                                                                                                                                                                                                                                                                                                                                                                                                                                                                                                                                                                                                                                                                                                                        esena help i filed a request for assistance sa esena re last pay na inabot ng   months at coe last friday meron na akong ref number ng request for assistance kaso that same day biglang nagmessage ang human resources na okay na ang cheke ng last pay ko at pwede ko na sya ipick up my question is paano icancel yung request for assistance since nakuha ko na yung last pay at coe ko thank you po  \n",
       "1  dodged a bad company and human resources i guess ive applied for one of the subsidiaries of aboitiz and id really like to share how horrible the application process or how the human resources handled it i guess was bale i just graduated from my electrical engineering degree this january and ive started to apply to a few companies including this subsidiary from aboitiz when compared to companies ive also done interviews with like pldt jg summit and smc sobrang nakakadisappoint yung experience ko with aboitiz i had my expectations for aboitiz since it was known to be one of the top companies and employers sa philippines kaya siguro naman formal and may class talaga yung way kung paano makipagcommunicate yung human resources right kaso hindi para bang nakikipagcommunicate lang ako with someone sa isang lowend company who is deeply struggling in handling communications ang problema pa rito was that i was the one who was understanding and patient kahit na sila yung may lapses in handling my application three months have passed and theyve contacted me saying that my application was already being considered but it was placed on hold due to a problem sa vacancy ng position with that i just had to withdraw and say that i wasnt already comfortable with the process and how poorly they were handling my application i withdrew kasi baka my application was a hassle on their end pala tsaka baka hinihintay lang talaga ng human resources na magbreak ako towards their treatmentattitude nagreply yung human resources sa withdrawal ko hindi ko malagay exact phrases but heres the gist human resources said the usual stuff muna like were deeply sorry about the inconviences made on your end blablabla sorry to see you go tapos ayon sa dulo sinabi na sobrang arte ko raw for complaining and that i should man up more to understand reallife problems that are being encounted sa office nila i shouldnt be complaining din daw kasi hindi naman ako employee to ask for something on their end what i was just asking for was respect heres one one out of a lot inconvenienceproblem that happened they asked me to attend an f f interview sa office nila the two hour travel going to their office didnt matter kasi i was enjoying my stay sa province namin to avoid the city heat however when i arrived then waited for two hours sa lobby nobody sa division division ata or department kung saan yung mga mamemeet ko remembered that i had a scheduled interview the human resources responsible for this was called to have a meeting sa ibang office at a different city so nobody was left sa office nila to where i was to arrangeconduct the interview so ayon ending was that i was asked to go home instead forgave them for that kasi understandable na baka may miscommunications sila sa office kaso ayun lang binerate pa ako ng hr  \n",
       "2                                                                                                                                                                                                                                                                                                                                                                                                                                                                                                                                                                                                                                                                                                                                                                                                                                                                                                                                                                                                                                                                                                                                                                                                                                                                                                                                                                                                                                                                                                                                                                                                                                                                                                                                                                                                                                                                                                                                                                                                                                                                                                                                                                                                                                                                                                                                                                                                                                                                                  sick leave na pahirapan im under an agency nag file ako ng sick leave for some reason not because im sick  prior to that nag ask na ako ng permission sa client ko   days ahead i also provided med cert  tapos itong company nato need pa ng screenshotdocumentation na nag ask ako ng permission sa client so balewala yung med cert ko wala yung acknowledgement from client  ganito ba talaga kahirap mah file ng sick leave sa pilipinas   \n",
       "3                                                                                                                                                                                                                                                                                                                                                                                                                                                                                                                                                                                                                                                                                                                                                                                                                                                                                                                                                                                                                                                                                                                                                                                                                                                                                                                                                                                                                                                                                                                                                                                                                                                                                                                                                                                                                                                                                                                                                                                                                                                                                                                                                                                                                                                                      help a nervous young adult out  ​  overkill ba yung   hours a week magkakaroon pa kaya ako nito ng worklife balance oks ba yung  k starting pay as probationary for   months hindi ko rin matukoy kung oks kasi hindi ko pa alam masyado yung workload eh kung chill oks naman pero kung magiging overworked ako edi super kulang haha  for people who have worked this role kumusta kindly let me know if maganda ba tong role na to or what haha  ​ ayun maraming salamat sa mga sasagot pasensiya na sa gulo at sa mga tanong wala kasi akong magulangolder adult sa buhay kaya walang mahingian ng guidance tips and encouragement haha  thank you uli  \n",
       "4                                                                                                                                                                                                                                                                                                                                                                                                                                                                                                                                                                                                                                                                                                                                                                                                                                                                                                                                                                                                                                                                                                                                                                                                                                                                                                                                                                                                                                                                                                                                                                                                                                                                                                                                                                                                                                                                                                                                                                                                                                                                                                                                                                                                                                                                                                                                                                                                                                                                                                                                                                                                                               absent without leave kumustahan i know this maybe off pero curious talaga ako  sa former government employees dito na nagawol kumusta kayo hirap panong magclearance daw kaso gusto ko na talagang umalis dito as soon as possible since super toxic na never again na talaga akong magovernment   "
      ]
     },
     "execution_count": 118,
     "metadata": {},
     "output_type": "execute_result"
    }
   ],
   "source": [
    "df.head(5)"
   ]
  },
  {
   "cell_type": "code",
   "execution_count": 119,
   "metadata": {},
   "outputs": [],
   "source": [
    "df.to_csv(f\"../dataset/_compiled/Compiled.csv\", index=False)"
   ]
  },
  {
   "cell_type": "code",
   "execution_count": 120,
   "metadata": {},
   "outputs": [],
   "source": [
    "# df_save = df.copy(deep=True)"
   ]
  }
 ],
 "metadata": {
  "kernelspec": {
   "display_name": ".scrape",
   "language": "python",
   "name": "python3"
  },
  "language_info": {
   "codemirror_mode": {
    "name": "ipython",
    "version": 3
   },
   "file_extension": ".py",
   "mimetype": "text/x-python",
   "name": "python",
   "nbconvert_exporter": "python",
   "pygments_lexer": "ipython3",
   "version": "3.12.0"
  }
 },
 "nbformat": 4,
 "nbformat_minor": 2
}
