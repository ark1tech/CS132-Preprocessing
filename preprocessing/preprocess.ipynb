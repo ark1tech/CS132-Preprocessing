{
 "cells": [
  {
   "cell_type": "markdown",
   "metadata": {},
   "source": [
    "## Configurations and Dependencies"
   ]
  },
  {
   "cell_type": "code",
   "execution_count": 1,
   "metadata": {},
   "outputs": [],
   "source": [
    "import pandas as pd # pip install pandas\n",
    "import re # pip install re\n",
    "import markdown # pip install markdown\n",
    "from bs4 import BeautifulSoup # pip install beautifulsoup4\n",
    "import csv\n",
    "import emoji\n",
    "import nltk\n",
    "\n",
    "pd.set_option('display.max_columns', None)  # or 1000\n",
    "pd.set_option('display.max_rows', None)  # or 1000\n",
    "pd.set_option('display.max_colwidth', None)  # or 199\n",
    "\n",
    "hot = pd.read_csv(\"../dataset/raw/hot.csv\")\n",
    "top = pd.read_csv(\"../dataset/raw/top.csv\")\n",
    "controversial = pd.read_csv(\"../dataset/raw/controversial.csv\")\n",
    "new = pd.read_csv(\"../dataset/raw/new.csv\")\n",
    "\n",
    "df_list = [hot, top, controversial, new, pd.concat([hot, top, controversial, new])]"
   ]
  },
  {
   "cell_type": "markdown",
   "metadata": {},
   "source": [
    "## Preprocessing"
   ]
  },
  {
   "cell_type": "markdown",
   "metadata": {},
   "source": [
    "#### Duplicates and Empty Cells"
   ]
  },
  {
   "cell_type": "code",
   "execution_count": 125,
   "metadata": {},
   "outputs": [
    {
     "name": "stdout",
     "output_type": "stream",
     "text": [
      "ALL CLEAR\n"
     ]
    }
   ],
   "source": [
    "check_list = []\n",
    "\n",
    "for df in df_list:\n",
    "    check_list.append((df.duplicated().sum(), df.loc[:, ~df.columns.isin(['Content', 'Flair'])].isnull().sum().sum()))\n",
    "\n",
    "count = 0\n",
    "for check in check_list:\n",
    "    if check != (0, 0): \n",
    "        count += 1\n",
    "        print(f\"ERROR AT DF {count}\")\n",
    "    count += 1\n",
    "\n",
    "if count == len(check_list): print(\"ALL CLEAR\")"
   ]
  },
  {
   "cell_type": "markdown",
   "metadata": {},
   "source": [
    "#### Data Cleaning"
   ]
  },
  {
   "cell_type": "code",
   "execution_count": 126,
   "metadata": {},
   "outputs": [],
   "source": [
    "URL_REGEX = r\".*(https?:\\/\\/)?([\\da-z\\.-]+)\\.([a-z\\.]{2,6})([\\/\\w\\.-]*).*\"\n",
    "\n",
    "# Remove URLs\n",
    "def unurl(cell):\n",
    "    return re.sub(URL_REGEX, \"\", str(cell))\n",
    "\n",
    "# Convert markdown to plaintext \n",
    "def md_to_text(cell):\n",
    "    html = markdown.markdown(cell)\n",
    "    soup = BeautifulSoup(html, features='html.parser')\n",
    "    return soup.get_text()\n",
    "\n",
    "# Replace NaN and \\n \n",
    "def cleantext(cell):\n",
    "    return re.sub(r\"(\\n|NaN|nan)\", \" \", str(cell))\n",
    "\n",
    "# Convert slangs\n",
    "def unslang(cell):\n",
    "    user_string = str(cell)\n",
    "    user_string = user_string.split(\" \")\n",
    "    j = 0\n",
    "    for _str in user_string:\n",
    "        fileName = \"slang.txt\"\n",
    "        accessMode = \"r\"\n",
    "        with open(fileName, accessMode) as myCSVfile:\n",
    "            dataFromFile = csv.reader(myCSVfile, delimiter=\"=\")\n",
    "            _str = re.sub('[^a-zA-Z0-9-_.]', '', _str)\n",
    "            for row in dataFromFile:\n",
    "                # if re.findall(fr\"{_str}\", row[0], flags=re.IGNORECASE):\n",
    "                if _str.upper() == row[0].upper():\n",
    "                    user_string[j] = row[1]\n",
    "            myCSVfile.close()\n",
    "        j = j + 1\n",
    "    return ' '.join(user_string)\n",
    "\n",
    "def unemoji(text):\n",
    "    return emoji.replace_emoji(text, replace=\"\")"
   ]
  },
  {
   "cell_type": "code",
   "execution_count": 127,
   "metadata": {},
   "outputs": [
    {
     "name": "stdout",
     "output_type": "stream",
     "text": [
      "Cleaning DF 1...\n",
      "Cleaning DF 2...\n",
      "Cleaning DF 3...\n",
      "Cleaning DF 4...\n"
     ]
    }
   ],
   "source": [
    "count = 1\n",
    "for df in df_list[0:4]:\n",
    "    df['Content'] = df['Content'].apply(unurl)\n",
    "    df['Content'] = df['Content'].apply(md_to_text)\n",
    "    df['Content'] = df['Content'].apply(cleantext)\n",
    "    df['Content'] = df['Content'].apply(unslang)\n",
    "    df['Content'] = df['Content'].apply(unemoji)\n",
    "    # df['Content'] = df['Content'].str.replace('\\d+', '')\n",
    "\n",
    "    df['Title'] = df['Title'].apply(unurl)\n",
    "    df['Title'] = df['Title'].apply(md_to_text)\n",
    "    df['Title'] = df['Title'].apply(cleantext)\n",
    "    df['Title'] = df['Title'].apply(unslang)\n",
    "    df['Title'] = df['Title'].apply(unemoji)\n",
    "    # df['Title'] = df['Title'].str.replace('\\d+', '')\n",
    "\n",
    "    df['Flair'] = df['Flair'].apply(cleantext)\n",
    "\n",
    "    print(f\"Cleaning DF {count}...\")\n",
    "    count += 1"
   ]
  },
  {
   "cell_type": "markdown",
   "metadata": {},
   "source": [
    "#### Create `Title+Content`"
   ]
  },
  {
   "cell_type": "code",
   "execution_count": 128,
   "metadata": {},
   "outputs": [],
   "source": [
    "for df in df_list[0:4]:\n",
    "    df.insert(4, \"Title+Content\", df[\"Title\"] + \" \" + df[\"Content\"]) "
   ]
  },
  {
   "cell_type": "markdown",
   "metadata": {},
   "source": [
    "#### Make CSVs"
   ]
  },
  {
   "cell_type": "code",
   "execution_count": 129,
   "metadata": {},
   "outputs": [],
   "source": [
    "hot.to_csv(f\"../dataset/clean/hot.csv\", index=False)\n",
    "top.to_csv(f\"../dataset/clean/top.csv\", index=False)\n",
    "new.to_csv(f\"../dataset/clean/new.csv\", index=False)\n",
    "controversial.to_csv(f\"../dataset/clean/controversial.csv\", index=False)"
   ]
  }
 ],
 "metadata": {
  "kernelspec": {
   "display_name": ".scrape",
   "language": "python",
   "name": "python3"
  },
  "language_info": {
   "codemirror_mode": {
    "name": "ipython",
    "version": 3
   },
   "file_extension": ".py",
   "mimetype": "text/x-python",
   "name": "python",
   "nbconvert_exporter": "python",
   "pygments_lexer": "ipython3",
   "version": "3.12.0"
  }
 },
 "nbformat": 4,
 "nbformat_minor": 2
}
